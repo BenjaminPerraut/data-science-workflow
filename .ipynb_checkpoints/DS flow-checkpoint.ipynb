{
 "cells": [
  {
   "cell_type": "code",
   "execution_count": 2,
   "id": "c0bb972b",
   "metadata": {},
   "outputs": [],
   "source": [
    "import pandas as pd\n",
    "import numpy as np\n",
    "import matplotlib.pyplot as plt\n",
    "import seaborn as sns\n",
    "from sklearn.model_selection import train_test_split"
   ]
  },
  {
   "cell_type": "markdown",
   "id": "9c6b8f2b",
   "metadata": {},
   "source": [
    "## EDA"
   ]
  },
  {
   "cell_type": "code",
   "execution_count": 23,
   "id": "9f14ea67",
   "metadata": {},
   "outputs": [
    {
     "data": {
      "text/html": [
       "<div>\n",
       "<style scoped>\n",
       "    .dataframe tbody tr th:only-of-type {\n",
       "        vertical-align: middle;\n",
       "    }\n",
       "\n",
       "    .dataframe tbody tr th {\n",
       "        vertical-align: top;\n",
       "    }\n",
       "\n",
       "    .dataframe thead th {\n",
       "        text-align: right;\n",
       "    }\n",
       "</style>\n",
       "<table border=\"1\" class=\"dataframe\">\n",
       "  <thead>\n",
       "    <tr style=\"text-align: right;\">\n",
       "      <th></th>\n",
       "      <th>App</th>\n",
       "      <th>Category</th>\n",
       "      <th>Rating</th>\n",
       "      <th>Reviews</th>\n",
       "      <th>Size</th>\n",
       "      <th>Installs</th>\n",
       "      <th>Type</th>\n",
       "      <th>Price</th>\n",
       "      <th>Content Rating</th>\n",
       "      <th>Genres</th>\n",
       "      <th>Last Updated</th>\n",
       "      <th>Current Ver</th>\n",
       "      <th>Android Ver</th>\n",
       "    </tr>\n",
       "  </thead>\n",
       "  <tbody>\n",
       "    <tr>\n",
       "      <th>0</th>\n",
       "      <td>Photo Editor &amp; Candy Camera &amp; Grid &amp; ScrapBook</td>\n",
       "      <td>ART_AND_DESIGN</td>\n",
       "      <td>4.1</td>\n",
       "      <td>159</td>\n",
       "      <td>19M</td>\n",
       "      <td>10,000+</td>\n",
       "      <td>Free</td>\n",
       "      <td>0</td>\n",
       "      <td>Everyone</td>\n",
       "      <td>Art &amp; Design</td>\n",
       "      <td>January 7, 2018</td>\n",
       "      <td>1.0.0</td>\n",
       "      <td>4.0.3 and up</td>\n",
       "    </tr>\n",
       "    <tr>\n",
       "      <th>1</th>\n",
       "      <td>Coloring book moana</td>\n",
       "      <td>ART_AND_DESIGN</td>\n",
       "      <td>3.9</td>\n",
       "      <td>967</td>\n",
       "      <td>14M</td>\n",
       "      <td>500,000+</td>\n",
       "      <td>Free</td>\n",
       "      <td>0</td>\n",
       "      <td>Everyone</td>\n",
       "      <td>Art &amp; Design;Pretend Play</td>\n",
       "      <td>January 15, 2018</td>\n",
       "      <td>2.0.0</td>\n",
       "      <td>4.0.3 and up</td>\n",
       "    </tr>\n",
       "    <tr>\n",
       "      <th>2</th>\n",
       "      <td>U Launcher Lite – FREE Live Cool Themes, Hide ...</td>\n",
       "      <td>ART_AND_DESIGN</td>\n",
       "      <td>4.7</td>\n",
       "      <td>87510</td>\n",
       "      <td>8.7M</td>\n",
       "      <td>5,000,000+</td>\n",
       "      <td>Free</td>\n",
       "      <td>0</td>\n",
       "      <td>Everyone</td>\n",
       "      <td>Art &amp; Design</td>\n",
       "      <td>August 1, 2018</td>\n",
       "      <td>1.2.4</td>\n",
       "      <td>4.0.3 and up</td>\n",
       "    </tr>\n",
       "    <tr>\n",
       "      <th>3</th>\n",
       "      <td>Sketch - Draw &amp; Paint</td>\n",
       "      <td>ART_AND_DESIGN</td>\n",
       "      <td>4.5</td>\n",
       "      <td>215644</td>\n",
       "      <td>25M</td>\n",
       "      <td>50,000,000+</td>\n",
       "      <td>Free</td>\n",
       "      <td>0</td>\n",
       "      <td>Teen</td>\n",
       "      <td>Art &amp; Design</td>\n",
       "      <td>June 8, 2018</td>\n",
       "      <td>Varies with device</td>\n",
       "      <td>4.2 and up</td>\n",
       "    </tr>\n",
       "    <tr>\n",
       "      <th>4</th>\n",
       "      <td>Pixel Draw - Number Art Coloring Book</td>\n",
       "      <td>ART_AND_DESIGN</td>\n",
       "      <td>4.3</td>\n",
       "      <td>967</td>\n",
       "      <td>2.8M</td>\n",
       "      <td>100,000+</td>\n",
       "      <td>Free</td>\n",
       "      <td>0</td>\n",
       "      <td>Everyone</td>\n",
       "      <td>Art &amp; Design;Creativity</td>\n",
       "      <td>June 20, 2018</td>\n",
       "      <td>1.1</td>\n",
       "      <td>4.4 and up</td>\n",
       "    </tr>\n",
       "  </tbody>\n",
       "</table>\n",
       "</div>"
      ],
      "text/plain": [
       "                                                 App        Category  Rating  \\\n",
       "0     Photo Editor & Candy Camera & Grid & ScrapBook  ART_AND_DESIGN     4.1   \n",
       "1                                Coloring book moana  ART_AND_DESIGN     3.9   \n",
       "2  U Launcher Lite – FREE Live Cool Themes, Hide ...  ART_AND_DESIGN     4.7   \n",
       "3                              Sketch - Draw & Paint  ART_AND_DESIGN     4.5   \n",
       "4              Pixel Draw - Number Art Coloring Book  ART_AND_DESIGN     4.3   \n",
       "\n",
       "  Reviews  Size     Installs  Type Price Content Rating  \\\n",
       "0     159   19M      10,000+  Free     0       Everyone   \n",
       "1     967   14M     500,000+  Free     0       Everyone   \n",
       "2   87510  8.7M   5,000,000+  Free     0       Everyone   \n",
       "3  215644   25M  50,000,000+  Free     0           Teen   \n",
       "4     967  2.8M     100,000+  Free     0       Everyone   \n",
       "\n",
       "                      Genres      Last Updated         Current Ver  \\\n",
       "0               Art & Design   January 7, 2018               1.0.0   \n",
       "1  Art & Design;Pretend Play  January 15, 2018               2.0.0   \n",
       "2               Art & Design    August 1, 2018               1.2.4   \n",
       "3               Art & Design      June 8, 2018  Varies with device   \n",
       "4    Art & Design;Creativity     June 20, 2018                 1.1   \n",
       "\n",
       "    Android Ver  \n",
       "0  4.0.3 and up  \n",
       "1  4.0.3 and up  \n",
       "2  4.0.3 and up  \n",
       "3    4.2 and up  \n",
       "4    4.4 and up  "
      ]
     },
     "metadata": {},
     "output_type": "display_data"
    },
    {
     "data": {
      "text/plain": [
       "(10841, 13)"
      ]
     },
     "metadata": {},
     "output_type": "display_data"
    }
   ],
   "source": [
    "pokemon = pd.read_csv('pokemon.csv')\n",
    "pokemon.head()\n",
    "\n",
    "google_play = pd.read_csv('googleplaystore.csv')\n",
    "display(google_play.head())\n",
    "display(google_play.shape)\n",
    "#display(google_play.info()) # also do display(google_play.isnull().sum())\n",
    "#display(google_play.describe())"
   ]
  },
  {
   "cell_type": "markdown",
   "id": "3fbf5e35",
   "metadata": {},
   "source": [
    "#### Cleaning columns\n",
    "`dataframe_sublists.rename(columns={0:'Score_1',1:'Score_2',2:'Score_3',3:'Score_4',4:'Score_5'})`\n",
    "\n",
    "`columns_name = list(admissions.columns)`\n",
    "`new_columns_name = []`\n",
    "\n",
    "`for i in columns_name:`\n",
    "`    new_columns_name.append(i.strip())`\n",
    "\n",
    "`admissions.columns = [new_columns_name]`"
   ]
  },
  {
   "cell_type": "code",
   "execution_count": 34,
   "id": "1ecf2950",
   "metadata": {},
   "outputs": [],
   "source": [
    "# Turn to numeric\n",
    "google_play['Reviews_numeric'] = pd.to_numeric(google_play['Reviews'], errors='coerce')"
   ]
  },
  {
   "cell_type": "markdown",
   "id": "77b57400",
   "metadata": {},
   "source": [
    "`salary_transformed['Experience_label'] = salary_transformed['Experience'].replace({'Junior':0,'Senior':1})`\n",
    "`salary_transformed['Gender_label'] = salary_transformed['Gender'].replace({'Male':0,'Female':1})`"
   ]
  },
  {
   "cell_type": "markdown",
   "id": "755a5d51",
   "metadata": {},
   "source": [
    "#### Reassign index\n",
    "\n",
    "`admissions.set_index('Serial No.', drop= False, inplace=True)` or\n",
    "`admissions.reset_index(inplace=True)`"
   ]
  },
  {
   "cell_type": "code",
   "execution_count": 21,
   "id": "382f6e1c",
   "metadata": {},
   "outputs": [
    {
     "data": {
      "text/plain": [
       "FAMILY             1972\n",
       "GAME               1144\n",
       "TOOLS               843\n",
       "MEDICAL             463\n",
       "BUSINESS            460\n",
       "PRODUCTIVITY        424\n",
       "PERSONALIZATION     392\n",
       "COMMUNICATION       387\n",
       "SPORTS              384\n",
       "LIFESTYLE           382\n",
       "Name: Category, dtype: int64"
      ]
     },
     "execution_count": 21,
     "metadata": {},
     "output_type": "execute_result"
    }
   ],
   "source": [
    "# Check for distribution\n",
    "google_play['Category'].value_counts()[:10]\n",
    "# Use google_play['Category'].hist() with less values"
   ]
  },
  {
   "cell_type": "code",
   "execution_count": 28,
   "id": "8cd73295",
   "metadata": {},
   "outputs": [
    {
     "data": {
      "text/plain": [
       "Normal-Flying    24\n",
       "Grass-Poison     15\n",
       "Bug-Flying       14\n",
       "Bug-Poison       12\n",
       "Ghost-Grass      10\n",
       "Water-Ground     10\n",
       "Water-Flying      7\n",
       "Steel-Psychic     7\n",
       "Fire-Fighting     7\n",
       "Bug-Steel         7\n",
       "Name: Combo Type, dtype: int64"
      ]
     },
     "execution_count": 28,
     "metadata": {},
     "output_type": "execute_result"
    }
   ],
   "source": [
    "# Re-creating sub-sets for later filtering\n",
    "pokemon['Combo Type'] = pokemon['Type 1'] + \"-\" + pokemon['Type 2'] #Pending .apply solution\n",
    "pokemon['Combo Type'].value_counts()[:10]"
   ]
  },
  {
   "cell_type": "code",
   "execution_count": 32,
   "id": "2b622775",
   "metadata": {},
   "outputs": [
    {
     "data": {
      "text/plain": [
       "Index(['#', 'Name', 'Total', 'HP', 'Attack', 'Defense', 'Sp. Atk', 'Sp. Def',\n",
       "       'Speed', 'Generation', 'Legendary', 'Combo Type', 'Type 1_Dark',\n",
       "       'Type 1_Dragon', 'Type 1_Electric', 'Type 1_Fairy', 'Type 1_Fighting',\n",
       "       'Type 1_Fire', 'Type 1_Flying', 'Type 1_Ghost', 'Type 1_Grass',\n",
       "       'Type 1_Ground', 'Type 1_Ice', 'Type 1_Normal', 'Type 1_Poison',\n",
       "       'Type 1_Psychic', 'Type 1_Rock', 'Type 1_Steel', 'Type 1_Water',\n",
       "       'Type 2_Dark', 'Type 2_Dragon', 'Type 2_Electric', 'Type 2_Fairy',\n",
       "       'Type 2_Fighting', 'Type 2_Fire', 'Type 2_Flying', 'Type 2_Ghost',\n",
       "       'Type 2_Grass', 'Type 2_Ground', 'Type 2_Ice', 'Type 2_Normal',\n",
       "       'Type 2_Poison', 'Type 2_Psychic', 'Type 2_Rock', 'Type 2_Steel',\n",
       "       'Type 2_Water'],\n",
       "      dtype='object')"
      ]
     },
     "execution_count": 32,
     "metadata": {},
     "output_type": "execute_result"
    }
   ],
   "source": [
    "#Dummification - dont forget drop_first=True\n",
    "pokemon_one_hot = pd.get_dummies(pokemon, columns = ['Type 1','Type 2'],drop_first=True)\n",
    "pokemon_one_hot.columns"
   ]
  },
  {
   "cell_type": "markdown",
   "id": "914e4114",
   "metadata": {},
   "source": [
    "#### Custom dummification\n",
    "\n",
    "`event_list = ['Snow', 'Fog', 'Rain', 'Thunderstorm']`\n",
    "\n",
    "`for event in event_list:\n",
    "    austin_fixed[event] = 0`\n",
    "    \n",
    "`for event in event_list:\n",
    "    austin_fixed[event]=austin_fixed['Events'].str.contains(event).astype(int) #Turn boolean into binary`"
   ]
  },
  {
   "cell_type": "code",
   "execution_count": 13,
   "id": "a5b44e8b",
   "metadata": {},
   "outputs": [],
   "source": [
    "# Remove characters from numerical columns \n",
    "\n",
    "def convert_string_to_numeric(s):\n",
    "    \"\"\"\n",
    "    Convert a string value to numeric. If the last character of the string is `M`, obtain the \n",
    "    numeric part of the string, multiply it with 1,000,000, then return the result. Otherwise, \n",
    "    convert the string to numeric value and return the result.\n",
    "    \n",
    "    Args:\n",
    "        s: The Reviews score in string format.\n",
    "\n",
    "    Returns:\n",
    "        The correct numeric value of the Reviews score.\n",
    "    \"\"\"\n",
    "    if s[-1] == 'M':\n",
    "        return float(s[0:-1])*1000000\n",
    "    else:\n",
    "        return float(pd.to_numeric(s, errors='coerce'))\n",
    "    \n",
    "    return np.NaN\n",
    "\n",
    "test_string = '4.0M'\n",
    "\n",
    "convert_string_to_numeric(test_string) == 4000000\n",
    "\n",
    "google_play['Reviews'] = google_play['Reviews'].apply(convert_string_to_numeric)\n",
    "\n",
    "# For similar cases google_missing_removed['Price'] = google_missing_removed['Price'].str.replace('$','')"
   ]
  },
  {
   "cell_type": "code",
   "execution_count": 17,
   "id": "506d4049",
   "metadata": {},
   "outputs": [
    {
     "data": {
      "text/plain": [
       "array(['19M', '14M', '8.7M', '25M', '2.8M', '5.6M', '29M', '33M', '3.1M',\n",
       "       '28M'], dtype=object)"
      ]
     },
     "execution_count": 17,
     "metadata": {},
     "output_type": "execute_result"
    }
   ],
   "source": [
    "# Get unique cases \n",
    "google_play['Size'].unique()[:10]"
   ]
  },
  {
   "cell_type": "code",
   "execution_count": 15,
   "id": "25038e84",
   "metadata": {},
   "outputs": [
    {
     "data": {
      "text/plain": [
       "0.15635089013928605"
      ]
     },
     "execution_count": 15,
     "metadata": {},
     "output_type": "execute_result"
    }
   ],
   "source": [
    "# Understand impact on dataset\n",
    "google_play[google_play['Size'] == 'Varies with device'].shape[0]/google_play.shape[0]"
   ]
  },
  {
   "cell_type": "markdown",
   "id": "78a5c859",
   "metadata": {},
   "source": [
    "#### Check missing values\n",
    "`google_play.isna().sum() also do fillna() and google_play.dropna()`\n",
    "`missing_values = austin[austin.isnull().any(axis=1)]`"
   ]
  },
  {
   "cell_type": "code",
   "execution_count": null,
   "id": "da60d000",
   "metadata": {},
   "outputs": [],
   "source": [
    "# Turn to datetime\n",
    "google_missing_removed = google_play.dropna()\n",
    "google_missing_removed['Last Updated'] = pd.to_datetime(google_missing_removed['Last Updated'])\n",
    "#austin_fixed.Date = [dt.strptime(d, \"%Y-%m-%d\").date().toordinal() for d in austin_fixed.Date]\n",
    "#Get ordinal for temporal series"
   ]
  },
  {
   "cell_type": "code",
   "execution_count": null,
   "id": "d5cdb470",
   "metadata": {},
   "outputs": [],
   "source": [
    "# Counting appearances for pre-dummification\n",
    "\n",
    "google_reviews = pd.read_csv('../../data/googleplaystore_user_reviews.csv')\n",
    "\n",
    "def positive_function(x):\n",
    "    return x.str.contains('Positive').sum()\n",
    "\n",
    "# Re_pivot tables with count dummies with function-assignment logic\n",
    "\n",
    "google_agg = review_missing_removed.groupby('App').agg(Positive=('Sentiment', positive_function), Total=('App', 'count'))\n",
    "\n",
    "# Generate a function based on the previous ones with np.where - similar to CASE WHEN THEN\n",
    "\n",
    "google_agg['Positive Ratio'] = np.where(google_agg['Total'] != 0, google_agg['Positive']/google_agg['Total'], 0)"
   ]
  },
  {
   "cell_type": "markdown",
   "id": "05cbd7b8",
   "metadata": {},
   "source": [
    "## Data Processing"
   ]
  },
  {
   "cell_type": "markdown",
   "id": "121de6e9",
   "metadata": {},
   "source": [
    "### Normalization"
   ]
  },
  {
   "cell_type": "markdown",
   "id": "552bf9fd",
   "metadata": {},
   "source": [
    "`X = features`\n",
    "`y = target_label`\n",
    "\n",
    "`X_train_normalized = pd.DataFrame(X_train_normalized, columns = X_train.columns)`\n",
    "\n",
    "`X_test_normalized = pd.DataFrame(X_test_normalized, columns = X_train.columns)`"
   ]
  },
  {
   "cell_type": "code",
   "execution_count": null,
   "id": "b132e618",
   "metadata": {},
   "outputs": [],
   "source": [
    "scaler = MinMaxScaler()\n",
    "X = scaler.fit_transform(X)\n",
    "X_train, X_test, y_train, y_test = train_test_split(X, y, test_size=0.25, random_state = 1)"
   ]
  },
  {
   "cell_type": "code",
   "execution_count": null,
   "id": "761188c0",
   "metadata": {},
   "outputs": [],
   "source": [
    "X_train_normalized.corr()"
   ]
  },
  {
   "cell_type": "code",
   "execution_count": null,
   "id": "b9484d36",
   "metadata": {},
   "outputs": [],
   "source": [
    "#A very common way to visualize the results discussed above is to create a correlation matrix. \n",
    "# Only the lower triangular component of the matrix is shown due to the fact that \n",
    "# the upper and lower (triangular) parts of the matrix are equal\n",
    "import matplotlib.pyplot as plt\n",
    "import seaborn as sn\n",
    "\n",
    "corr=np.abs(X_train_normalized.corr())\n",
    "\n",
    "#Set up mask for triangle representation\n",
    "mask = np.zeros_like(corr, dtype=np.bool)\n",
    "mask[np.triu_indices_from(mask)] = True\n",
    "\n",
    "# Set up the matplotlib figure\n",
    "f, ax = plt.subplots(figsize=(14, 14))\n",
    "# Generate a custom diverging colormap\n",
    "cmap = sn.diverging_palette(220, 10, as_cmap=True)\n",
    "# Draw the heatmap with the mask and correct aspect ratio\n",
    "sn.heatmap(corr, mask=mask,  vmax=1,square=True, linewidths=.5, cbar_kws={\"shrink\": .5},annot = corr)\n",
    "\n",
    "plt.show()"
   ]
  },
  {
   "cell_type": "markdown",
   "id": "96064bf2",
   "metadata": {},
   "source": [
    "## Machine Learning"
   ]
  },
  {
   "cell_type": "code",
   "execution_count": null,
   "id": "aa04d844",
   "metadata": {},
   "outputs": [],
   "source": [
    "#Regresion\n",
    "from sklearn.linear_model import LinearRegression\n",
    "from sklearn.tree import DecisionTreeRegressor\n",
    "from sklearn.neighbors import KNeighborsRegressor\n",
    "\n",
    "#Classification\n",
    "from sklearn.neighbors import KNeighborsClassifier\n",
    "from sklearn.linear_model import LogisticRegression\n",
    "from sklearn.tree import DecisionTreeClassifier\n",
    "from sklearn.svm import LinearSVC\n",
    "\n",
    "#Eval Metrics\n",
    "from sklearn.metrics import mean_absolute_error\n",
    "from sklearn.metrics import r2_score\n",
    "from sklearn.metrics import f1_score\n",
    "from sklearn.metrics import mean_squared_error\n",
    "from sklearn.metrics import accuracy_score\n",
    "from sklearn.metrics import confusion_matrix\n",
    "from sklearn.metrics import precision_score\n",
    "from sklearn.metrics import recall_score\n",
    "from sklearn.metrics import classification_report\n",
    "from sklearn.tree.export import export_text\n",
    "from sklearn.tree import export_graphviz\n",
    "\n",
    "#Model optimization\n",
    "from sklearn.ensemble import BaggingRegressor\n",
    "from sklearn.ensemble import RandomForestRegressor\n",
    "from sklearn.ensemble import AdaBoostRegressor\n",
    "from sklearn.ensemble import GradientBoostingRegressor\n",
    "import xgboost"
   ]
  },
  {
   "cell_type": "markdown",
   "id": "36cc6765",
   "metadata": {},
   "source": [
    "### Regression"
   ]
  },
  {
   "cell_type": "code",
   "execution_count": null,
   "id": "88f5f3aa",
   "metadata": {},
   "outputs": [],
   "source": [
    "regr = LinearRegression()\n",
    "model = regr.fit(X_train, y_train)\n",
    "model.score(X_test, y_test)\n",
    "regr.predict(X_test)\n",
    "y_test\n",
    "model.coef_"
   ]
  },
  {
   "cell_type": "code",
   "execution_count": null,
   "id": "4daeef10",
   "metadata": {},
   "outputs": [],
   "source": [
    "regr = DecisionTreeRegressor()\n",
    "model = regr.fit(X_train, y_train)\n",
    "regr.score(X_test, y_test)\n",
    "y_pred = regr.predict(X_test)\n",
    "r = export_text(regr, feature_names=list(boston.feature_names))\n",
    "print(r)"
   ]
  },
  {
   "cell_type": "code",
   "execution_count": null,
   "id": "14c1b209",
   "metadata": {},
   "outputs": [],
   "source": [
    "knnr = KNeighborsRegressor(n_neighbors = 3,weights='distance')\n",
    "model = knnr.fit(X_train, y_train)\n",
    "knnr.score(X_test, y_test)\n",
    "y_pred = knnr.predict(X_test)\n",
    "y_pred\n",
    "y_test"
   ]
  },
  {
   "cell_type": "markdown",
   "id": "d1157c10",
   "metadata": {},
   "source": [
    "### Eval Metrics for Regression"
   ]
  },
  {
   "cell_type": "code",
   "execution_count": null,
   "id": "3570eb4c",
   "metadata": {},
   "outputs": [],
   "source": [
    "mean_absolute_error(y_test, y_pred)\n",
    "mean_squared_error(y_test, y_pred)\n",
    "r2_score(y_test, y_pred)"
   ]
  },
  {
   "cell_type": "markdown",
   "id": "152da671",
   "metadata": {},
   "source": [
    "### Overfitting analysis"
   ]
  },
  {
   "cell_type": "code",
   "execution_count": null,
   "id": "360f94c2",
   "metadata": {},
   "outputs": [],
   "source": [
    "# These are actually quite good results, we don't seem to be overfitting. Tet's see the test-training tradeoff as we force KNN to overfit\n",
    "import matplotlib.pyplot as plt\n",
    "\n",
    "# hyerparameter tuning\n",
    "training_accuracy = []\n",
    "test_accuracy = []\n",
    "\n",
    "neighbors_settings = range(1, 30)\n",
    "for n_neighbors in neighbors_settings:\n",
    "  clf = KNeighborsClassifier(n_neighbors=n_neighbors)\n",
    "  clf.fit(X_train, y_train)\n",
    "  training_accuracy.append(clf.score(X_train, y_train))\n",
    "  test_accuracy.append(clf.score(X_test, y_test))\n",
    "\n",
    "plt.plot(neighbors_settings, training_accuracy, label=\"training accuracy\")\n",
    "plt.plot(neighbors_settings, test_accuracy, label=\"test accuracy\")\n",
    "plt.ylabel(\"Accuracy\")\n",
    "plt.xlabel(\"n_neighbors\")\n",
    "plt.legend()\n",
    "\n",
    "plt.show() \n",
    "# these types of charts are very important!! how does the test/training accuracy vary with a change in a hyperparameter"
   ]
  },
  {
   "cell_type": "markdown",
   "id": "6c65cf7e",
   "metadata": {},
   "source": [
    "### Classification"
   ]
  },
  {
   "cell_type": "code",
   "execution_count": null,
   "id": "347f6585",
   "metadata": {},
   "outputs": [],
   "source": [
    "model = KNeighborsClassifier(n_neighbors = 10)\n",
    "model = model.fit(X_train, y_train)\n",
    "model.predict(X_test)\n",
    "np.array(y_test)\n",
    "accuracy_score(model.predict(X_test),np.array(y_test))"
   ]
  },
  {
   "cell_type": "code",
   "execution_count": null,
   "id": "7090ff56",
   "metadata": {},
   "outputs": [],
   "source": [
    "model = LogisticRegression()\n",
    "model = model.fit(X_train, y_train)\n",
    "print(\"test data accuracy was \",model.score(X_test,y_test))\n",
    "print(\"train data accuracy was \", model.score(X_train, y_train))\n",
    "pred = model.predict(X_test)\n",
    "print(accuracy_score(y_test,pred))\n",
    "print(confusion_matrix(y_test,pred))\n",
    "print(precision_score(y_test,pred))\n",
    "print(recall_score(y_test,pred))\n",
    "print(classification_report(y_test,pred))"
   ]
  },
  {
   "cell_type": "code",
   "execution_count": null,
   "id": "bd1eb3b4",
   "metadata": {},
   "outputs": [],
   "source": [
    "model = DecisionTreeClassifier(max_depth = 10)\n",
    "model.fit(X_train, y_train)\n",
    "print(\"test data accuracy was \",model.score(X_test,y_test))\n",
    "print(\"train data accuracy was \",model.score(X_train,y_train))\n",
    "\n",
    "# why dont I repeat the process but choose the max_depth of the tree\n",
    "max_depth = range(1,30)\n",
    "test = []\n",
    "train = []\n",
    "\n",
    "for depth in max_depth:\n",
    "  model = DecisionTreeClassifier(max_depth= depth)\n",
    "  model.fit(X_train, y_train)\n",
    "  test.append(model.score(X_test,y_test))\n",
    "  train.append(model.score(X_train,y_train))\n",
    "    \n",
    "# we quickly see overfitting properties\n",
    "import matplotlib.pyplot as plt\n",
    "plt.plot( train, label=\"training accuracy\")\n",
    "plt.plot( test, label=\"test accuracy\")\n",
    "plt.ylabel(\"Accuracy\")\n",
    "plt.xlabel(\"n_depth\")\n",
    "plt.legend()\n",
    "\n",
    "model = DecisionTreeClassifier(max_depth = 3)\n",
    "model.fit(X_train, y_train)\n",
    "\n",
    "export_graphviz(model, out_file=\"tree.dot\", class_names=[\"malignant\", \"benign\"],\n",
    "feature_names=cancer.feature_names, impurity=False, filled=True)\n",
    "\n",
    "import graphviz\n",
    "with open(\"tree.dot\") as f:\n",
    "  dot_graph = f.read()\n",
    "graphviz.Source(dot_graph)  "
   ]
  },
  {
   "cell_type": "code",
   "execution_count": null,
   "id": "805fa18c",
   "metadata": {},
   "outputs": [],
   "source": [
    "model = LinearSVC()\n",
    "model.fit(X_train, y_train)\n",
    "\n",
    "print(model.score(X_train, y_train))\n",
    "print(model.score(X_test, y_test))\n",
    "print(model.score(X_train, y_train))\n",
    "print(model.score(X_test, y_test))"
   ]
  },
  {
   "cell_type": "markdown",
   "id": "478b5ff3",
   "metadata": {},
   "source": [
    "## Imbalance Datasets"
   ]
  },
  {
   "cell_type": "code",
   "execution_count": null,
   "id": "c351d81e",
   "metadata": {},
   "outputs": [],
   "source": [
    "from sklearn.utils import resample\n",
    "# oversample minority\n",
    "yes_diabetes_oversampled = resample(yes_diabetes, #<- sample from here\n",
    "                                    replace=True, #<- we need replacement, since we don't have enough data otherwise\n",
    "                                    n_samples = len(no_diabetes),#<- make both sets the same size\n",
    "                                    random_state=0)\n",
    "\n",
    "no_diabetes_undersampled = resample(no_diabetes, #<- downsample from here\n",
    "                                    replace=False, #<- no need to reuse data now, we have an abundance\n",
    "                                    n_samples = len(yes_diabetes),\n",
    "                                    random_state=0)"
   ]
  },
  {
   "cell_type": "code",
   "execution_count": null,
   "id": "9d9dc2ea",
   "metadata": {},
   "outputs": [],
   "source": [
    "from imblearn.over_sampling import SMOTE\n",
    "sm = SMOTE(random_state = 123,sampling_strategy=1.0)\n",
    "X_train_SMOTE,y_train_SMOTE = sm.fit_resample(X_train,y_train)"
   ]
  },
  {
   "cell_type": "markdown",
   "id": "367e8ac2",
   "metadata": {},
   "source": [
    "## Emsemble Methods"
   ]
  },
  {
   "cell_type": "code",
   "execution_count": null,
   "id": "ead753f7",
   "metadata": {},
   "outputs": [],
   "source": [
    "bagging_reg = BaggingRegressor(\n",
    "    DecisionTreeRegressor(max_depth=3), # depth 3 to force tree to be \"weak\"\n",
    "    n_estimators=10, # 10 trees\n",
    "    max_samples=100, # we limit each weaker tree to 100 datapoints\n",
    "    random_state=1) # fixing random state because I want my examples to work and to look smart\n",
    "\n",
    "bagging_reg.fit(X_train, y_train)\n",
    "bagging_reg.score(X_test,y_test)\n",
    "\n",
    "###################\n",
    "\n",
    "forest = RandomForestRegressor(n_estimators=10, # same 10 trees\n",
    "                               max_depth=3, # depth 3 to force tree to be \"weak\"\n",
    "                               random_state=1) # fixing rand because I'm insecure and afraid you will judge me if I get a bad random selection that does not prove my point\n",
    "forest.fit(X_train, y_train)\n",
    "forest.score(X_test,y_test)\n",
    "\n",
    "###################\n",
    "\n",
    "ada_reg = AdaBoostRegressor(DecisionTreeRegressor(max_depth=5), # you can overfit a bit because you compensate afterwards\n",
    "                            n_estimators=10, # same 10 trees. You usually use faaaar more estimators\n",
    "                            random_state=1 # once a coward, always a coward\n",
    "                            )\n",
    "ada_reg.fit(X_train, y_train)\n",
    "ada_reg.score(X_test,y_test)\n",
    "\n",
    "###################\n",
    "\n",
    "gb_reg = GradientBoostingRegressor(max_depth=5, #gradient boosting always works with trees, no need to call the tree regressor\n",
    "                                   n_estimators=100,\n",
    "                                   random_state=1 # tastes like chicken\n",
    "                                   )\n",
    "gb_reg.fit(X_train, y_train)\n",
    "gb_reg.score(X_test,y_test)\n",
    "\n",
    "###################\n",
    "\n",
    "xgb_reg = xgboost.XGBRegressor()\n",
    "xgb_reg.fit(X_train, y_train)\n",
    "xgb_reg.score(X_test,y_test)"
   ]
  }
 ],
 "metadata": {
  "kernelspec": {
   "display_name": "Python 3 (ipykernel)",
   "language": "python",
   "name": "python3"
  },
  "language_info": {
   "codemirror_mode": {
    "name": "ipython",
    "version": 3
   },
   "file_extension": ".py",
   "mimetype": "text/x-python",
   "name": "python",
   "nbconvert_exporter": "python",
   "pygments_lexer": "ipython3",
   "version": "3.9.7"
  }
 },
 "nbformat": 4,
 "nbformat_minor": 5
}
